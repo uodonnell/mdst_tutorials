{
 "cells": [
  {
   "cell_type": "markdown",
   "metadata": {},
   "source": [
    "<h1> Checkpoint:</h1>\n",
    "\n",
    "**Looking to see completetion and effort in completing the checkpoint. It's okay if it's not correct**\n",
    "\n",
    "Based off this dataset with school financial, enrollment, and achievement data, we are interested in what information is a useful indicator of student performance at the state level.\n",
    "\n",
    "This question is a bit too big for a checkpoint, however. Instead, we want you to look at smaller questions related to our overall goal. Here's the overview:\n",
    "\n",
    "1. Choose a specific test to focus on\n",
    ">Reading for 4th grade\n",
    "* Pick or create features to use\n",
    ">Will all the features be useful in predicting test score? Are some more important than others? Should you standardize, bin, or scale the data?\n",
    "* Explore the data as it relates to that test\n",
    ">Create 2 well-labeled visualizations (graphs), each with a caption describing the graph and what it tells us about the data\n",
    "* Create training and testing data\n",
    ">Do you want to train on all the data? Only data from the last 10 years? Only Michigan data?\n",
    "* Train a ML model to predict outcome \n",
    ">Pick if you want to do a regression or classification task. For both cases, defined _exactly_ what you want to predict, and pick any model in sklearn to use (see sklearn <a href=\"https://scikit-learn.org/stable/modules/linear_model.html\">regressors</a> and <a href=\"https://scikit-learn.org/stable/auto_examples/classification/plot_classifier_comparison.html\">classifiers</a>).\n",
    "* Summarize your findings\n",
    ">Write a 1 paragraph summary of what you did and make a recommendation about if and how student performance can be predicted\n",
    "\n",
    "** Include comments throughout your code! Every cleanup and preprocessing task should be documented.\n",
    "\n",
    "\n",
    "Of course, if you're finding this assignment interesting (and we really hope you do!), you are welcome to do more than the requirements! For example, you may want to see if expenditure affects 4th graders more than 8th graders. Maybe you want to look into the extended version of this dataset and see how factors like sex and race are involved. You can include all your work in this notebook when you turn it in -- just always make sure you explain what you did and interpret your results. Good luck!"
   ]
  },
  {
   "cell_type": "markdown",
   "metadata": {},
   "source": [
    "<h2> Data Cleanup </h2>\n",
    "\n",
    "Import numpy, pandas, matplotlib, and seaborn\n",
    "\n",
    "(Feel free to import other libraries!)"
   ]
  },
  {
   "cell_type": "code",
   "execution_count": 1,
   "metadata": {},
   "outputs": [],
   "source": [
    "import numpy as np\n",
    "import pandas as pd\n",
    "import matplotlib.pyplot as plt\n",
    "import seaborn\n",
    "import os"
   ]
  },
  {
   "cell_type": "markdown",
   "metadata": {},
   "source": [
    "Load in the \"states_edu.csv\" dataset and take a look at the head of the data"
   ]
  },
  {
   "cell_type": "code",
   "execution_count": 2,
   "metadata": {},
   "outputs": [
    {
     "name": "stdout",
     "output_type": "stream",
     "text": [
      "       PRIMARY_KEY       STATE  YEAR  ENROLL  TOTAL_REVENUE  FEDERAL_REVENUE  \\\n",
      "0     1992_ALABAMA     ALABAMA  1992     NaN      2678885.0         304177.0   \n",
      "1      1992_ALASKA      ALASKA  1992     NaN      1049591.0         106780.0   \n",
      "2     1992_ARIZONA     ARIZONA  1992     NaN      3258079.0         297888.0   \n",
      "3    1992_ARKANSAS    ARKANSAS  1992     NaN      1711959.0         178571.0   \n",
      "4  1992_CALIFORNIA  CALIFORNIA  1992     NaN     26260025.0        2072470.0   \n",
      "\n",
      "   STATE_REVENUE  LOCAL_REVENUE  TOTAL_EXPENDITURE  INSTRUCTION_EXPENDITURE  \\\n",
      "0      1659028.0       715680.0          2653798.0                1481703.0   \n",
      "1       720711.0       222100.0           972488.0                 498362.0   \n",
      "2      1369815.0      1590376.0          3401580.0                1435908.0   \n",
      "3       958785.0       574603.0          1743022.0                 964323.0   \n",
      "4     16546514.0      7641041.0         27138832.0               14358922.0   \n",
      "\n",
      "   ...  GRADES_4_G  GRADES_8_G  GRADES_12_G  GRADES_1_8_G  GRADES_9_12_G  \\\n",
      "0  ...     57948.0     58025.0      41167.0           NaN            NaN   \n",
      "1  ...      9748.0      8789.0       6714.0           NaN            NaN   \n",
      "2  ...     55433.0     49081.0      37410.0           NaN            NaN   \n",
      "3  ...     34632.0     36011.0      27651.0           NaN            NaN   \n",
      "4  ...    418418.0    363296.0     270675.0           NaN            NaN   \n",
      "\n",
      "   GRADES_ALL_G  AVG_MATH_4_SCORE  AVG_MATH_8_SCORE  AVG_READING_4_SCORE  \\\n",
      "0      731634.0             208.0             252.0                207.0   \n",
      "1      122487.0               NaN               NaN                  NaN   \n",
      "2      673477.0             215.0             265.0                209.0   \n",
      "3      441490.0             210.0             256.0                211.0   \n",
      "4     5254844.0             208.0             261.0                202.0   \n",
      "\n",
      "   AVG_READING_8_SCORE  \n",
      "0                  NaN  \n",
      "1                  NaN  \n",
      "2                  NaN  \n",
      "3                  NaN  \n",
      "4                  NaN  \n",
      "\n",
      "[5 rows x 25 columns]\n",
      "Index(['PRIMARY_KEY', 'STATE', 'YEAR', 'ENROLL', 'TOTAL_REVENUE',\n",
      "       'FEDERAL_REVENUE', 'STATE_REVENUE', 'LOCAL_REVENUE',\n",
      "       'TOTAL_EXPENDITURE', 'INSTRUCTION_EXPENDITURE',\n",
      "       'SUPPORT_SERVICES_EXPENDITURE', 'OTHER_EXPENDITURE',\n",
      "       'CAPITAL_OUTLAY_EXPENDITURE', 'GRADES_PK_G', 'GRADES_KG_G',\n",
      "       'GRADES_4_G', 'GRADES_8_G', 'GRADES_12_G', 'GRADES_1_8_G',\n",
      "       'GRADES_9_12_G', 'GRADES_ALL_G', 'AVG_MATH_4_SCORE', 'AVG_MATH_8_SCORE',\n",
      "       'AVG_READING_4_SCORE', 'AVG_READING_8_SCORE'],\n",
      "      dtype='object')\n"
     ]
    }
   ],
   "source": [
    "os.getcwd() # just find where file is\n",
    "states_edu = pd.read_csv(\"../data/states_edu.csv\")\n",
    "print(states_edu.head())\n",
    "print(states_edu.columns)"
   ]
  },
  {
   "cell_type": "markdown",
   "metadata": {},
   "source": [
    "You should always familiarize yourself with what each column in the dataframe represents. \\ Read about the states_edu dataset here: https://www.kaggle.com/noriuk/us-education-datasets-unification-project"
   ]
  },
  {
   "cell_type": "markdown",
   "metadata": {},
   "source": [
    "Use this space to rename columns, deal with missing data, etc. _(optional)_"
   ]
  },
  {
   "cell_type": "code",
   "execution_count": 3,
   "metadata": {},
   "outputs": [],
   "source": [
    "#if there are missing values for enrollment, fill them with totals\n",
    "states_edu['GRADES_ALL_G'] = states_edu['GRADES_ALL_G'].fillna(states_edu.GRADES_PK_G+states_edu.GRADES_1_8_G+states_edu.GRADES_9_12_G)"
   ]
  },
  {
   "cell_type": "code",
   "execution_count": 4,
   "metadata": {
    "scrolled": false
   },
   "outputs": [
    {
     "name": "stdout",
     "output_type": "stream",
     "text": [
      "<class 'pandas.core.frame.DataFrame'>\n",
      "RangeIndex: 1715 entries, 0 to 1714\n",
      "Data columns (total 15 columns):\n",
      " #   Column                        Non-Null Count  Dtype  \n",
      "---  ------                        --------------  -----  \n",
      " 0   PRIMARY_KEY                   1715 non-null   object \n",
      " 1   STATE                         1715 non-null   object \n",
      " 2   YEAR                          1715 non-null   int64  \n",
      " 3   TOTAL_REVENUE                 1275 non-null   float64\n",
      " 4   FEDERAL_REVENUE               1275 non-null   float64\n",
      " 5   STATE_REVENUE                 1275 non-null   float64\n",
      " 6   LOCAL_REVENUE                 1275 non-null   float64\n",
      " 7   TOTAL_EXPENDITURE             1275 non-null   float64\n",
      " 8   INSTRUCTION_EXPENDITURE       1275 non-null   float64\n",
      " 9   SUPPORT_SERVICES_EXPENDITURE  1275 non-null   float64\n",
      " 10  OTHER_EXPENDITURE             1224 non-null   float64\n",
      " 11  CAPITAL_OUTLAY_EXPENDITURE    1275 non-null   float64\n",
      " 12  GRADES_4_G                    1632 non-null   float64\n",
      " 13  GRADES_ALL_G                  1632 non-null   float64\n",
      " 14  AVG_READING_4_SCORE           650 non-null    float64\n",
      "dtypes: float64(12), int64(1), object(2)\n",
      "memory usage: 201.1+ KB\n",
      "None\n",
      "PRIMARY_KEY                        0\n",
      "STATE                              0\n",
      "YEAR                               0\n",
      "TOTAL_REVENUE                    440\n",
      "FEDERAL_REVENUE                  440\n",
      "STATE_REVENUE                    440\n",
      "LOCAL_REVENUE                    440\n",
      "TOTAL_EXPENDITURE                440\n",
      "INSTRUCTION_EXPENDITURE          440\n",
      "SUPPORT_SERVICES_EXPENDITURE     440\n",
      "OTHER_EXPENDITURE                491\n",
      "CAPITAL_OUTLAY_EXPENDITURE       440\n",
      "GRADES_4_G                        83\n",
      "GRADES_ALL_G                      83\n",
      "AVG_READING_4_SCORE             1065\n",
      "dtype: int64\n"
     ]
    }
   ],
   "source": [
    "# isolate the info we will need for prediction need\n",
    "states_edu = states_edu[['PRIMARY_KEY', 'STATE', 'YEAR', 'TOTAL_REVENUE',\n",
    "       'FEDERAL_REVENUE', 'STATE_REVENUE', 'LOCAL_REVENUE',\n",
    "       'TOTAL_EXPENDITURE', 'INSTRUCTION_EXPENDITURE',\n",
    "       'SUPPORT_SERVICES_EXPENDITURE', 'OTHER_EXPENDITURE',\n",
    "       'CAPITAL_OUTLAY_EXPENDITURE','GRADES_4_G', \n",
    "        'GRADES_ALL_G','AVG_READING_4_SCORE']]\n",
    "\n",
    "print(states_edu.info())\n",
    "print(states_edu.isnull().sum())"
   ]
  },
  {
   "cell_type": "code",
   "execution_count": 5,
   "metadata": {
    "scrolled": true
   },
   "outputs": [
    {
     "data": {
      "image/png": "[encoded data removed]",
      "text/plain": [
       "<Figure size 432x288 with 1 Axes>"
      ]
     },
     "metadata": {
      "needs_background": "light"
     },
     "output_type": "display_data"
    }
   ],
   "source": [
    "%matplotlib inline\n",
    "\n",
    "# get idea of missing values\n",
    "states_edu.plot.scatter( \"YEAR\",\"AVG_READING_4_SCORE\")\n",
    "plt.xticks(rotation = 90)\n",
    "plt.show()"
   ]
  },
  {
   "cell_type": "code",
   "execution_count": 6,
   "metadata": {
    "scrolled": true
   },
   "outputs": [
    {
     "name": "stdout",
     "output_type": "stream",
     "text": [
      "<class 'pandas.core.frame.DataFrame'>\n",
      "Int64Index: 650 entries, 0 to 1714\n",
      "Data columns (total 15 columns):\n",
      " #   Column                        Non-Null Count  Dtype  \n",
      "---  ------                        --------------  -----  \n",
      " 0   PRIMARY_KEY                   650 non-null    object \n",
      " 1   STATE                         650 non-null    object \n",
      " 2   YEAR                          650 non-null    int64  \n",
      " 3   TOTAL_REVENUE                 523 non-null    float64\n",
      " 4   FEDERAL_REVENUE               523 non-null    float64\n",
      " 5   STATE_REVENUE                 523 non-null    float64\n",
      " 6   LOCAL_REVENUE                 523 non-null    float64\n",
      " 7   TOTAL_EXPENDITURE             523 non-null    float64\n",
      " 8   INSTRUCTION_EXPENDITURE       523 non-null    float64\n",
      " 9   SUPPORT_SERVICES_EXPENDITURE  523 non-null    float64\n",
      " 10  OTHER_EXPENDITURE             481 non-null    float64\n",
      " 11  CAPITAL_OUTLAY_EXPENDITURE    523 non-null    float64\n",
      " 12  GRADES_4_G                    574 non-null    float64\n",
      " 13  GRADES_ALL_G                  574 non-null    float64\n",
      " 14  AVG_READING_4_SCORE           650 non-null    float64\n",
      "dtypes: float64(12), int64(1), object(2)\n",
      "memory usage: 81.2+ KB\n",
      "None\n",
      "PRIMARY_KEY                       0\n",
      "STATE                             0\n",
      "YEAR                              0\n",
      "TOTAL_REVENUE                   127\n",
      "FEDERAL_REVENUE                 127\n",
      "STATE_REVENUE                   127\n",
      "LOCAL_REVENUE                   127\n",
      "TOTAL_EXPENDITURE               127\n",
      "INSTRUCTION_EXPENDITURE         127\n",
      "SUPPORT_SERVICES_EXPENDITURE    127\n",
      "OTHER_EXPENDITURE               169\n",
      "CAPITAL_OUTLAY_EXPENDITURE      127\n",
      "GRADES_4_G                       76\n",
      "GRADES_ALL_G                     76\n",
      "AVG_READING_4_SCORE               0\n",
      "dtype: int64\n"
     ]
    }
   ],
   "source": [
    "states_edu = states_edu[states_edu[\"AVG_READING_4_SCORE\"].notna()]\n",
    "print(states_edu.info())\n",
    "print(states_edu.isnull().sum())"
   ]
  },
  {
   "cell_type": "raw",
   "metadata": {},
   "source": []
  },
  {
   "cell_type": "code",
   "execution_count": 7,
   "metadata": {
    "scrolled": true
   },
   "outputs": [
    {
     "name": "stderr",
     "output_type": "stream",
     "text": [
      "<ipython-input-7-10c264a649f7>:9: SettingWithCopyWarning: \n",
      "A value is trying to be set on a copy of a slice from a DataFrame.\n",
      "Try using .loc[row_indexer,col_indexer] = value instead\n",
      "\n",
      "See the caveats in the documentation: https://pandas.pydata.org/pandas-docs/stable/user_guide/indexing.html#returning-a-view-versus-a-copy\n",
      "  states_edu[col] = states_edu.groupby(['STATE','YEAR'])[col].transform(lambda x: x.fillna(x.mean()))\n",
      "<ipython-input-7-10c264a649f7>:11: SettingWithCopyWarning: \n",
      "A value is trying to be set on a copy of a slice from a DataFrame.\n",
      "Try using .loc[row_indexer,col_indexer] = value instead\n",
      "\n",
      "See the caveats in the documentation: https://pandas.pydata.org/pandas-docs/stable/user_guide/indexing.html#returning-a-view-versus-a-copy\n",
      "  states_edu[col] = states_edu.groupby('STATE')[col].transform(lambda x: x.fillna(x.mean()))\n"
     ]
    },
    {
     "name": "stdout",
     "output_type": "stream",
     "text": [
      "<class 'pandas.core.frame.DataFrame'>\n",
      "Int64Index: 650 entries, 0 to 1714\n",
      "Data columns (total 15 columns):\n",
      " #   Column                        Non-Null Count  Dtype  \n",
      "---  ------                        --------------  -----  \n",
      " 0   PRIMARY_KEY                   650 non-null    object \n",
      " 1   STATE                         650 non-null    object \n",
      " 2   YEAR                          650 non-null    int64  \n",
      " 3   TOTAL_REVENUE                 625 non-null    float64\n",
      " 4   FEDERAL_REVENUE               625 non-null    float64\n",
      " 5   STATE_REVENUE                 625 non-null    float64\n",
      " 6   LOCAL_REVENUE                 625 non-null    float64\n",
      " 7   TOTAL_EXPENDITURE             625 non-null    float64\n",
      " 8   INSTRUCTION_EXPENDITURE       625 non-null    float64\n",
      " 9   SUPPORT_SERVICES_EXPENDITURE  625 non-null    float64\n",
      " 10  OTHER_EXPENDITURE             625 non-null    float64\n",
      " 11  CAPITAL_OUTLAY_EXPENDITURE    625 non-null    float64\n",
      " 12  GRADES_4_G                    625 non-null    float64\n",
      " 13  GRADES_ALL_G                  625 non-null    float64\n",
      " 14  AVG_READING_4_SCORE           650 non-null    float64\n",
      "dtypes: float64(12), int64(1), object(2)\n",
      "memory usage: 81.2+ KB\n",
      "None\n",
      "PRIMARY_KEY                      0\n",
      "STATE                            0\n",
      "YEAR                             0\n",
      "TOTAL_REVENUE                   25\n",
      "FEDERAL_REVENUE                 25\n",
      "STATE_REVENUE                   25\n",
      "LOCAL_REVENUE                   25\n",
      "TOTAL_EXPENDITURE               25\n",
      "INSTRUCTION_EXPENDITURE         25\n",
      "SUPPORT_SERVICES_EXPENDITURE    25\n",
      "OTHER_EXPENDITURE               25\n",
      "CAPITAL_OUTLAY_EXPENDITURE      25\n",
      "GRADES_4_G                      25\n",
      "GRADES_ALL_G                    25\n",
      "AVG_READING_4_SCORE              0\n",
      "dtype: int64\n"
     ]
    }
   ],
   "source": [
    "# Average out remaining values with average from that state and year\n",
    "change = ['TOTAL_REVENUE','FEDERAL_REVENUE', \n",
    "          'STATE_REVENUE', 'LOCAL_REVENUE',\n",
    "       'TOTAL_EXPENDITURE', 'INSTRUCTION_EXPENDITURE',\n",
    "       'SUPPORT_SERVICES_EXPENDITURE', 'OTHER_EXPENDITURE',\n",
    "       'CAPITAL_OUTLAY_EXPENDITURE','GRADES_4_G', \n",
    "        'GRADES_ALL_G']\n",
    "for col in change:\n",
    "    states_edu[col] = states_edu.groupby(['STATE','YEAR'])[col].transform(lambda x: x.fillna(x.mean()))\n",
    "    #if missing data, repeat with just state\n",
    "    states_edu[col] = states_edu.groupby('STATE')[col].transform(lambda x: x.fillna(x.mean()))\n",
    "print(states_edu.info())\n",
    "print(states_edu.isnull().sum())"
   ]
  },
  {
   "cell_type": "code",
   "execution_count": 8,
   "metadata": {},
   "outputs": [
    {
     "name": "stdout",
     "output_type": "stream",
     "text": [
      "<class 'pandas.core.frame.DataFrame'>\n",
      "Int64Index: 625 entries, 0 to 1714\n",
      "Data columns (total 15 columns):\n",
      " #   Column                        Non-Null Count  Dtype  \n",
      "---  ------                        --------------  -----  \n",
      " 0   PRIMARY_KEY                   625 non-null    object \n",
      " 1   STATE                         625 non-null    object \n",
      " 2   YEAR                          625 non-null    int64  \n",
      " 3   TOTAL_REVENUE                 625 non-null    float64\n",
      " 4   FEDERAL_REVENUE               625 non-null    float64\n",
      " 5   STATE_REVENUE                 625 non-null    float64\n",
      " 6   LOCAL_REVENUE                 625 non-null    float64\n",
      " 7   TOTAL_EXPENDITURE             625 non-null    float64\n",
      " 8   INSTRUCTION_EXPENDITURE       625 non-null    float64\n",
      " 9   SUPPORT_SERVICES_EXPENDITURE  625 non-null    float64\n",
      " 10  OTHER_EXPENDITURE             625 non-null    float64\n",
      " 11  CAPITAL_OUTLAY_EXPENDITURE    625 non-null    float64\n",
      " 12  GRADES_4_G                    625 non-null    float64\n",
      " 13  GRADES_ALL_G                  625 non-null    float64\n",
      " 14  AVG_READING_4_SCORE           625 non-null    float64\n",
      "dtypes: float64(12), int64(1), object(2)\n",
      "memory usage: 78.1+ KB\n",
      "None\n",
      "PRIMARY_KEY                     0\n",
      "STATE                           0\n",
      "YEAR                            0\n",
      "TOTAL_REVENUE                   0\n",
      "FEDERAL_REVENUE                 0\n",
      "STATE_REVENUE                   0\n",
      "LOCAL_REVENUE                   0\n",
      "TOTAL_EXPENDITURE               0\n",
      "INSTRUCTION_EXPENDITURE         0\n",
      "SUPPORT_SERVICES_EXPENDITURE    0\n",
      "OTHER_EXPENDITURE               0\n",
      "CAPITAL_OUTLAY_EXPENDITURE      0\n",
      "GRADES_4_G                      0\n",
      "GRADES_ALL_G                    0\n",
      "AVG_READING_4_SCORE             0\n",
      "dtype: int64\n"
     ]
    }
   ],
   "source": [
    "states_edu.dropna(inplace = True)\n",
    "print(states_edu.info())\n",
    "print(states_edu.isnull().sum())"
   ]
  },
  {
   "cell_type": "markdown",
   "metadata": {},
   "source": [
    "<h2>Exploratory Data Analysis (EDA) </h2>"
   ]
  },
  {
   "cell_type": "markdown",
   "metadata": {},
   "source": [
    "Chosen Predictor for Test: Reading for 4th grade\n",
    "\n",
    "Predictor Score in the questions refers to the predictor variable you chose here."
   ]
  },
  {
   "cell_type": "markdown",
   "metadata": {},
   "source": [
    "How many different years of data are in our dataset? Use a pandas function."
   ]
  },
  {
   "cell_type": "code",
   "execution_count": 9,
   "metadata": {},
   "outputs": [
    {
     "name": "stdout",
     "output_type": "stream",
     "text": [
      "2003    51\n",
      "2005    51\n",
      "2007    51\n",
      "2009    51\n",
      "2011    51\n",
      "2013    51\n",
      "2015    51\n",
      "2017    51\n",
      "2019    51\n",
      "2002    44\n",
      "1992    42\n",
      "1994    40\n",
      "1998    40\n",
      "Name: YEAR, dtype: int64\n",
      "[1992 1994 1998 2002 2003 2005 2007 2009 2011 2013 2015 2017 2019]\n"
     ]
    }
   ],
   "source": [
    "print(states_edu[\"YEAR\"].value_counts())\n",
    "print(states_edu[\"YEAR\"].unique())"
   ]
  },
  {
   "cell_type": "markdown",
   "metadata": {},
   "source": [
    "There are 13 years of which we have data for, originally however there were 32 years, listed above, with around around 40-50 data points for each year."
   ]
  },
  {
   "cell_type": "markdown",
   "metadata": {},
   "source": [
    "Let's compare Michigan to Ohio. Which state has the higher average predictor score across all years?"
   ]
  },
  {
   "cell_type": "code",
   "execution_count": 10,
   "metadata": {},
   "outputs": [
    {
     "name": "stdout",
     "output_type": "stream",
     "text": [
      "Michigan:  217.83333333333334\n",
      "Ohio:  223.1818181818182\n"
     ]
    }
   ],
   "source": [
    "\n",
    "print(\"Michigan: \", states_edu[states_edu[\"STATE\"] == \"MICHIGAN\"][\"AVG_READING_4_SCORE\"].mean())\n",
    "print(\"Ohio: \", states_edu[states_edu[\"STATE\"] == \"OHIO\"][\"AVG_READING_4_SCORE\"].mean())\n"
   ]
  },
  {
   "cell_type": "markdown",
   "metadata": {},
   "source": [
    "Ohio has the higher average reading score among 4th graders historically, compared to Michigan."
   ]
  },
  {
   "cell_type": "markdown",
   "metadata": {},
   "source": [
    "Find the average for your pedictor score across all states in 2019"
   ]
  },
  {
   "cell_type": "code",
   "execution_count": 11,
   "metadata": {},
   "outputs": [
    {
     "name": "stdout",
     "output_type": "stream",
     "text": [
      "2019:  219.49019607843138\n"
     ]
    }
   ],
   "source": [
    "print(\"2019: \", states_edu[states_edu[\"YEAR\"] == 2019][\"AVG_READING_4_SCORE\"].mean())"
   ]
  },
  {
   "cell_type": "markdown",
   "metadata": {},
   "source": [
    "Find the maximum predictor score for every state. Hint: there's a function that allows you to do this easily"
   ]
  },
  {
   "cell_type": "code",
   "execution_count": 12,
   "metadata": {},
   "outputs": [
    {
     "data": {
      "text/plain": [
       "STATE\n",
       "ALABAMA                 220.0\n",
       "ALASKA                  214.0\n",
       "ARIZONA                 216.0\n",
       "ARKANSAS                219.0\n",
       "CALIFORNIA              216.0\n",
       "COLORADO                227.0\n",
       "CONNECTICUT             230.0\n",
       "DELAWARE                226.0\n",
       "DISTRICT_OF_COLUMBIA    214.0\n",
       "FLORIDA                 228.0\n",
       "GEORGIA                 222.0\n",
       "HAWAII                  218.0\n",
       "IDAHO                   223.0\n",
       "ILLINOIS                222.0\n",
       "INDIANA                 227.0\n",
       "IOWA                    225.0\n",
       "KANSAS                  225.0\n",
       "KENTUCKY                228.0\n",
       "LOUISIANA               216.0\n",
       "MAINE                   228.0\n",
       "MARYLAND                232.0\n",
       "MASSACHUSETTS           237.0\n",
       "MICHIGAN                220.0\n",
       "MINNESOTA               227.0\n",
       "MISSISSIPPI             219.0\n",
       "MISSOURI                224.0\n",
       "MONTANA                 227.0\n",
       "NEBRASKA                227.0\n",
       "NEVADA                  218.0\n",
       "NEW_HAMPSHIRE           232.0\n",
       "NEW_JERSEY              233.0\n",
       "NEW_MEXICO              212.0\n",
       "NEW_YORK                224.0\n",
       "NORTH_CAROLINA          226.0\n",
       "NORTH_DAKOTA            226.0\n",
       "OHIO                    226.0\n",
       "OKLAHOMA                222.0\n",
       "OREGON                  220.0\n",
       "PENNSYLVANIA            227.0\n",
       "RHODE_ISLAND            225.0\n",
       "SOUTH_CAROLINA          218.0\n",
       "SOUTH_DAKOTA            223.0\n",
       "TENNESSEE               220.0\n",
       "TEXAS                   220.0\n",
       "UTAH                    226.0\n",
       "VERMONT                 230.0\n",
       "VIRGINIA                229.0\n",
       "WASHINGTON              226.0\n",
       "WEST_VIRGINIA           219.0\n",
       "WISCONSIN               224.0\n",
       "WYOMING                 228.0\n",
       "Name: AVG_READING_4_SCORE, dtype: float64"
      ]
     },
     "execution_count": 12,
     "metadata": {},
     "output_type": "execute_result"
    }
   ],
   "source": [
    "states_edu.groupby(\"STATE\")[\"AVG_READING_4_SCORE\"].max()"
   ]
  },
  {
   "cell_type": "markdown",
   "metadata": {},
   "source": [
    "<h2> Feature Selection </h2>\n",
    "\n",
    "After exploring the data, you now have to choose features that you would use to predict the performance of the students on a chosen test (your chosen predictor). By the way, you can also create your own features. For example, perhaps you figured that maybe a state's expenditure per student may affect their overall academic performance so you create a expenditure_per_student feature.\n",
    "\n",
    "Use this space to modify or create features"
   ]
  },
  {
   "cell_type": "code",
   "execution_count": 13,
   "metadata": {},
   "outputs": [
    {
     "name": "stdout",
     "output_type": "stream",
     "text": [
      "YEAR                            0.312495\n",
      "TOTAL_REVENUE                   0.063199\n",
      "FEDERAL_REVENUE                -0.040102\n",
      "STATE_REVENUE                   0.007848\n",
      "LOCAL_REVENUE                   0.136528\n",
      "TOTAL_EXPENDITURE               0.060537\n",
      "INSTRUCTION_EXPENDITURE         0.078673\n",
      "SUPPORT_SERVICES_EXPENDITURE    0.063372\n",
      "OTHER_EXPENDITURE              -0.033265\n",
      "CAPITAL_OUTLAY_EXPENDITURE     -0.018748\n",
      "GRADES_4_G                     -0.089269\n",
      "GRADES_ALL_G                   -0.077495\n",
      "AVG_READING_4_SCORE             1.000000\n",
      "SPENT_PER_STUDENT               0.378868\n",
      "TEACH_PER_STUDENT               0.439326\n",
      "PERCENT_EXPENDITURE_TEACH       0.290482\n",
      "PERCENT_SUPPORT_EXPENDITURE    -0.277470\n",
      "PERCENT_CAPITAL_EXPENDITURE    -0.238098\n",
      "PERCENT                              NaN\n",
      "Name: AVG_READING_4_SCORE, dtype: float64\n"
     ]
    }
   ],
   "source": [
    "# Total spending for instruction, capital, and support services\n",
    "# Could use ENROLL, but GRADES_ALL_G has less missing data\n",
    "states_edu[\"SPENT_PER_STUDENT\"] = states_edu[\"TOTAL_EXPENDITURE\"]/states_edu[\"GRADES_ALL_G\"]\n",
    "states_edu[\"TEACH_PER_STUDENT\"] = states_edu[\"INSTRUCTION_EXPENDITURE\"]/states_edu[\"GRADES_ALL_G\"]\n",
    "\n",
    "# The amount of spending that is used for instruction\n",
    "states_edu[\"PERCENT_EXPENDITURE_TEACH\"] = (states_edu[\"INSTRUCTION_EXPENDITURE\"]/states_edu[\"TOTAL_EXPENDITURE\"])*100\n",
    "#print(states_edu[\"PERCENT_EXPENDITURE_TEACH\"][:9])\n",
    "states_edu[\"PERCENT_SUPPORT_EXPENDITURE\"] = (states_edu[\"SUPPORT_SERVICES_EXPENDITURE\"]/states_edu[\"TOTAL_EXPENDITURE\"])*100\n",
    "#print(states_edu[\"PERCENT_SUPPORT_EXPENDITURE\"][:9])\n",
    "states_edu[\"PERCENT_CAPITAL_EXPENDITURE\"] = (states_edu[\"CAPITAL_OUTLAY_EXPENDITURE\"]/states_edu[\"TOTAL_EXPENDITURE\"])*100\n",
    "states_edu[\"PERCENT\"] = 100\n",
    "\n",
    "correlations = states_edu.corr()\n",
    "correlations = correlations[\"AVG_READING_4_SCORE\"]\n",
    "print(correlations)"
   ]
  },
  {
   "cell_type": "markdown",
   "metadata": {},
   "source": [
    "Final feature list: **Expenditure per Student, Percentage Spent on Instructors**"
   ]
  },
  {
   "cell_type": "markdown",
   "metadata": {},
   "source": [
    "Feature selection justification: \n",
    " - Expenditure per Student: The total amount of money spent on schools, quantified by how much money is spent on each student will give a standardized measure of money spent across all states.\n",
    " - Percentage Spent on Instructors: Higher percentages mean those states likely value and respect their teachers more, and more quality education is given to students."
   ]
  },
  {
   "cell_type": "markdown",
   "metadata": {},
   "source": [
    "<h2>Visualization</h2>\n",
    "\n",
    "Use any graph you wish to see the relationship of your chosen predictor with any features you chose\n",
    "\n",
    "**Visualization 1**"
   ]
  },
  {
   "cell_type": "code",
   "execution_count": 14,
   "metadata": {},
   "outputs": [
    {
     "data": {
      "image/png": "[encoded data removed]",
      "text/plain": [
       "<Figure size 432x288 with 1 Axes>"
      ]
     },
     "metadata": {
      "needs_background": "light"
     },
     "output_type": "display_data"
    }
   ],
   "source": [
    "%matplotlib inline\n",
    "\n",
    "states_edu.plot.scatter( \"SPENT_PER_STUDENT\",\"AVG_READING_4_SCORE\")\n",
    "plt.title(\"How Spending per Student Affects Reading Scores Among 4th Graders\", y = 1.08)\n",
    "plt.xlabel(\"Dollars Spent Per Student\")\n",
    "plt.ylabel(\"Reading Score\")\n",
    "plt.show()"
   ]
  },
  {
   "cell_type": "markdown",
   "metadata": {},
   "source": [
    "This graph compares the money spent per student (all grades) to 4th graders reading score. There is a positive linear relationship, if more money is spent per student, their score tends to go up."
   ]
  },
  {
   "cell_type": "markdown",
   "metadata": {},
   "source": [
    "**Visualization 2**"
   ]
  },
  {
   "cell_type": "code",
   "execution_count": 15,
   "metadata": {},
   "outputs": [
    {
     "data": {
      "image/png": "[encoded data removed]",
      "text/plain": [
       "<Figure size 1080x504 with 1 Axes>"
      ]
     },
     "metadata": {
      "needs_background": "light"
     },
     "output_type": "display_data"
    }
   ],
   "source": [
    "%matplotlib inline         \n",
    "\n",
    "# adjust it so it fits on plot, and can see overall trend\n",
    "states_edu[\"READ_PLOT\"] = states_edu[\"AVG_READING_4_SCORE\"] - 140\n",
    "fig, ax = plt.subplots(figsize=(15,7))\n",
    "# lighlt display 100 percent for context\n",
    "states_edu.groupby(['STATE']).mean()['PERCENT'].plot.bar(ax=ax, color = \"azure\")\n",
    "states_edu.groupby(['STATE']).mean()['PERCENT_EXPENDITURE_TEACH'].plot.bar(ax=ax, color = \"orange\")\n",
    "states_edu.groupby(['STATE']).mean()['READ_PLOT'].plot(ax=ax, color = \"red\")\n",
    "# make x axis more readable\n",
    "plt.xticks(rotation = 90)\n",
    "plt.title(\"Percent Expenditure on Teaching, and effects on Reading test scores\", y = 1.08)\n",
    "plt.xlabel(\"State\")\n",
    "plt.ylabel(\"Percent of Expenditure used on Instruction\")\n",
    "plt.show()\n"
   ]
  },
  {
   "cell_type": "markdown",
   "metadata": {},
   "source": [
    "The red line is the average 4th grade reading scores (adjusted to fit this chart). There are significant dips when percentage spent on teachers is less. Delaware, Michigan, and New Mexico are some examples of relatively lower percentages spent on teachers, and dips in 4th grade reading scores."
   ]
  },
  {
   "cell_type": "markdown",
   "metadata": {},
   "source": [
    "<h2> Data Creation </h2>\n",
    "\n",
    "_Use this space to create train/test data_"
   ]
  },
  {
   "cell_type": "code",
   "execution_count": 16,
   "metadata": {},
   "outputs": [],
   "source": [
    "from sklearn.model_selection import train_test_split"
   ]
  },
  {
   "cell_type": "code",
   "execution_count": 17,
   "metadata": {},
   "outputs": [],
   "source": [
    "#states_edu.dropna( inplace=True)\n",
    "X = states_edu[[\"YEAR\",\"SPENT_PER_STUDENT\", \"TEACH_PER_STUDENT\",\"GRADES_4_G\"]]\n",
    "X = X.select_dtypes(include=np.number)\n",
    "y = states_edu[\"AVG_READING_4_SCORE\"]"
   ]
  },
  {
   "cell_type": "code",
   "execution_count": 18,
   "metadata": {},
   "outputs": [],
   "source": [
    "X_train, X_test, y_train, y_test = train_test_split(\n",
    "     X, y, test_size=0.33, random_state=0)"
   ]
  },
  {
   "cell_type": "markdown",
   "metadata": {},
   "source": [
    "<h2> Prediction </h2>"
   ]
  },
  {
   "cell_type": "markdown",
   "metadata": {},
   "source": [
    "ML Models Resource: https://medium.com/@vijaya.beeravalli/comparison-of-machine-learning-classification-models-for-credit-card-default-data-c3cf805c9a5a"
   ]
  },
  {
   "cell_type": "markdown",
   "metadata": {},
   "source": [
    "Chosen ML task: **REGRESSION**"
   ]
  },
  {
   "cell_type": "code",
   "execution_count": 19,
   "metadata": {},
   "outputs": [],
   "source": [
    "# import your sklearn class here\n",
    "from sklearn.linear_model import ElasticNet"
   ]
  },
  {
   "cell_type": "code",
   "execution_count": 20,
   "metadata": {},
   "outputs": [],
   "source": [
    "# create your model here\n",
    "model = ElasticNet()"
   ]
  },
  {
   "cell_type": "code",
   "execution_count": 21,
   "metadata": {},
   "outputs": [
    {
     "data": {
      "text/plain": [
       "ElasticNet()"
      ]
     },
     "execution_count": 21,
     "metadata": {},
     "output_type": "execute_result"
    }
   ],
   "source": [
    "model.fit(X_train, y_train)"
   ]
  },
  {
   "cell_type": "code",
   "execution_count": 22,
   "metadata": {},
   "outputs": [],
   "source": [
    "y_pred = model.predict(X_test)"
   ]
  },
  {
   "cell_type": "code",
   "execution_count": 29,
   "metadata": {
    "scrolled": true
   },
   "outputs": [
    {
     "data": {
      "text/plain": [
       "0.20869881504924803"
      ]
     },
     "execution_count": 29,
     "metadata": {},
     "output_type": "execute_result"
    }
   ],
   "source": [
    "model.score(X_test,y_test)"
   ]
  },
  {
   "cell_type": "code",
   "execution_count": 23,
   "metadata": {
    "scrolled": true
   },
   "outputs": [
    {
     "data": {
      "text/plain": [
       "1.0862483764600832"
      ]
     },
     "execution_count": 23,
     "metadata": {},
     "output_type": "execute_result"
    }
   ],
   "source": [
    "# mean error\n",
    "np.mean(model.predict(X_test)-y_test)"
   ]
  },
  {
   "cell_type": "code",
   "execution_count": 24,
   "metadata": {},
   "outputs": [
    {
     "name": "stdout",
     "output_type": "stream",
     "text": [
      "69.57453850457927\n",
      "[ 7.15793039e-02  0.00000000e+00  1.18766981e+00 -6.93481007e-06]\n"
     ]
    }
   ],
   "source": [
    "print(model.intercept_)\n",
    "print(model.coef_)"
   ]
  },
  {
   "cell_type": "code",
   "execution_count": 25,
   "metadata": {
    "scrolled": true
   },
   "outputs": [
    {
     "data": {
      "text/plain": [
       "5.072512870479744"
      ]
     },
     "execution_count": 25,
     "metadata": {},
     "output_type": "execute_result"
    }
   ],
   "source": [
    "# mean absolute error\n",
    "np.mean(np.abs(model.predict(X_test)-y_test))"
   ]
  },
  {
   "cell_type": "code",
   "execution_count": 26,
   "metadata": {},
   "outputs": [
    {
     "data": {
      "text/plain": [
       "7.394574111046082"
      ]
     },
     "execution_count": 26,
     "metadata": {},
     "output_type": "execute_result"
    }
   ],
   "source": [
    "# root mean squared error\n",
    "np.mean((model.predict(X_test)-y_test)**2)**0.5\n"
   ]
  },
  {
   "cell_type": "code",
   "execution_count": 28,
   "metadata": {
    "scrolled": true
   },
   "outputs": [
    {
     "data": {
      "text/plain": [
       "Text(0, 0.5, '4th Grade Reading Scores')"
      ]
     },
     "execution_count": 28,
     "metadata": {},
     "output_type": "execute_result"
    },
    {
     "data": {
      "image/png": "[encoded data removed]",
      "text/plain": [
       "<Figure size 864x432 with 1 Axes>"
      ]
     },
     "metadata": {
      "needs_background": "light"
     },
     "output_type": "display_data"
    }
   ],
   "source": [
    "# FOR REGRESSION ONLY: (pick a single column to visualize results)\n",
    "\n",
    "# Results from this graph _should not_ be used as a part of your results -- it is just here to help with intuition. \n",
    "# Instead, look at the error values and individual intercepts.\n",
    "\n",
    "\n",
    "col_name = \"TEACH_PER_STUDENT\"\n",
    "col_index = X_train.columns.get_loc(col_name)\n",
    "\n",
    "f = plt.figure(figsize=(12,6))\n",
    "plt.scatter(X_train[col_name], y_train, color = \"red\")\n",
    "plt.scatter(X_train[col_name], model.predict(X_train), color = \"green\")\n",
    "plt.scatter(X_test[col_name], model.predict(X_test), color = \"blue\")\n",
    "\n",
    "new_x = np.linspace(X_train[col_name].min(),X_train[col_name].max(),200)\n",
    "intercept = model.predict([X_train.sort_values(col_name).iloc[0]]) - X_train[col_name].min()*model.coef_[col_index]\n",
    "plt.plot(new_x, intercept+new_x*model.coef_[col_index])\n",
    "\n",
    "plt.legend(['controlled model','true training','predicted training','predicted testing'])\n",
    "plt.xlabel(col_name)\n",
    "plt.ylabel(\"4th Grade Reading Scores\")"
   ]
  },
  {
   "cell_type": "markdown",
   "metadata": {},
   "source": [
    "<h2> Summary </h2>"
   ]
  },
  {
   "cell_type": "markdown",
   "metadata": {},
   "source": [
    "With an R^2 value of 0.21, the model isn't that accurate. Based on the coefficients, it seems that out of the predictors, the amount of expenditure on teaching per student was the biggest influencer on 4th grade reading scores. The mean absolute error was 5.07, meaning on average, test points were about 5.07 off the predicted. The doesn't tell too different of a story, as the points were about 7.39 units off. I think 4th grade student success on reading tests could be improved if expenditure on teachers goes up, resulting in a higher quality of education for the students."
   ]
  }
 ],
 "metadata": {
  "kernelspec": {
   "display_name": "Python 3",
   "language": "python",
   "name": "python3"
  },
  "language_info": {
   "codemirror_mode": {
    "name": "ipython",
    "version": 3
   },
   "file_extension": ".py",
   "mimetype": "text/x-python",
   "name": "python",
   "nbconvert_exporter": "python",
   "pygments_lexer": "ipython3",
   "version": "3.8.8"
  }
 },
 "nbformat": 4,
 "nbformat_minor": 4
}
